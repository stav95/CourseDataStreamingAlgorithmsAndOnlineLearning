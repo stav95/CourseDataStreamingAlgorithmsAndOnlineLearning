{
 "cells": [
  {
   "cell_type": "markdown",
   "metadata": {
    "id": "HNCZub4XPN1d"
   },
   "source": [
    "**Full Name:** Stav Yosef\n",
    "\n",
    "**ID:** 316298876"
   ]
  },
  {
   "cell_type": "markdown",
   "metadata": {
    "id": "WjywynQQPWIl"
   },
   "source": [
    "**Colab:** [https://colab.research.google.com/drive/1nMhrnigmpezPRQYzyd8iXhmN2eBGBp5l?usp=sharing](https://colab.research.google.com/drive/1nMhrnigmpezPRQYzyd8iXhmN2eBGBp5l?usp=sharing)"
   ]
  },
  {
   "cell_type": "markdown",
   "metadata": {
    "id": "SqRjwR8yPia9"
   },
   "source": [
    "\n",
    "\n",
    "---\n",
    "\n"
   ]
  },
  {
   "cell_type": "markdown",
   "metadata": {
    "id": "btbWgdux6c33"
   },
   "source": [
    "#Dry Section"
   ]
  },
  {
   "cell_type": "markdown",
   "metadata": {
    "id": "bnCTQqdDllIY"
   },
   "source": [
    "## Question 1"
   ]
  },
  {
   "cell_type": "markdown",
   "metadata": {
    "id": "4cVr_wCklqaK"
   },
   "source": [
    "First, I want to give some motivation why we need to estimate the size of the joined tables.\n",
    "\n",
    "Assume $M_{1\\dots{n-1}}$ is a matrices of order $nxn$ and $M_n$ is a matrix of order $nx1$\n",
    "\n",
    "We want to multiply all $n$ matrices, does the order of multiplication matters?\n",
    "\n",
    "The short answer is **YES!!**\n",
    "\n",
    "Let's look on two different order we can multiply all of them.\n",
    "\n",
    "1. Multiply all the matrices in order, $M_1 \\times M_2$ then $(M_1 \\times M_2) \\times M_3$ and so on...\n",
    "2. Multiply all the matrices in reverse order, $M_{n-1} \\times M_n$ then $M_{n-2} \\times (M_{n - 1} \\times M_n)$ and so on...\n",
    "\n",
    "In the first option we \"wasting\" a lot of computing power and time because we don't reducing in any point but the last multiply the matrix dimension, on the other hand in the second option we reducing the dimension to $nx1$ in the first multiplication $\\rightarrow$ saving a lot of time and computing power.\n",
    "\n",
    "We can throw this analogy straight to our joining problem because tables is not different than matrcies and if we have an estimator (our AMS) that tells us what the result size of joining two tables we can save a lot of time & computing power."
   ]
  },
  {
   "cell_type": "markdown",
   "metadata": {
    "id": "JJSo4nISttfZ"
   },
   "source": [
    "Assume there are two tables, r(A, B) and s(A, C) where A is common.\n",
    "\n",
    "Let $f_{s,j}$ and $f_{r,j}$ be the frequencies of item $j$ in s and r respectively.\n",
    "\n",
    "With AMS on self-join table we showed on the lecture that is unbaised\n",
    "\n",
    "$E[Z] = 0$ and $E[Z^2] = F_2$ \n",
    "\n",
    "where \n",
    "\n",
    "$Z = \\Sigma_{x}h(x)f(x)$\n",
    "\n",
    "We know that $E[\\Sigma_{r = f_r,j}h(r)f(r)] = 0$ and $E[\\Sigma_{s = f_s,j}h(s)f(s)] = 0$ but it doesn't help bacause we not searching for the expectation of the square we looking for $E[r\\times s]$.\n",
    "\n",
    "$E[r\\times s] = E[\\Sigma_{r = f_r,j}h(r)f(r)\\times \\Sigma_{s = f_s,j}h(s)f(s)]$\n",
    "\n",
    "We can split this into 2 different cases:\n",
    "\n",
    "1. Where $r=s$\n",
    "2. Where $r \\neq s$\n",
    "\n",
    "$ = E[\\Sigma_{r = s}h(r)^2f(r)f(s) + \\Sigma_{r \\neq s}h(r)h(s)f(r)f(s)]$\n",
    "\n",
    "We know that $E[h(r)] = 0$ and $E[h(s)] = 0$ which leave us with:\n",
    "\n",
    "$ = E[\\Sigma_{r = s}h(r)^2f(r)f(s)]$\n",
    "\n",
    "$h$ is equal to $-1$ or $1$ (uniformly) so, $E[h(s)^2] = 1$\n",
    "\n",
    "$ = E[\\Sigma_{r = s}f(r)f(s)] = \\Sigma_{j}f_{r,j}f_{s,j}$\n",
    "\n",
    "We received unbaised result. $\\checkmark$"
   ]
  },
  {
   "cell_type": "markdown",
   "metadata": {
    "id": "cflKHNDlMrWg"
   },
   "source": [
    "In conclusion:\n",
    "\n",
    "If we have $n$ tables, instead of sorting to know the best order to run our query we'll hold $n$ AMS sketches for each table and choose the minimal:\n",
    "\n",
    "$Table_i \\bowtie Table_j \\approx \\Sigma AMS_i \\cdot AMS_j$"
   ]
  },
  {
   "cell_type": "markdown",
   "metadata": {
    "id": "gi6j-FKO1UZL"
   },
   "source": [
    "##Question 2"
   ]
  },
  {
   "cell_type": "markdown",
   "metadata": {
    "id": "fxA6CGWML2n1"
   },
   "source": [
    "The first thing I'll do is to proof the next statement: $4(Ax)^T(Ay) = ||A(x + y)||^2 - ||A(x - y)||^2$"
   ]
  },
  {
   "cell_type": "markdown",
   "metadata": {
    "id": "AynVxboNRmsQ"
   },
   "source": [
    "$A$ is a matrix of order $nxd$\n",
    "\n",
    "$x,y \\in R^{d}$ \n",
    "\n",
    "\n",
    "---\n",
    "\n"
   ]
  },
  {
   "cell_type": "markdown",
   "metadata": {
    "id": "bg4GDsndFq-d"
   },
   "source": [
    "\n",
    "\n",
    "$Ax = $\n",
    "$\\begin{pmatrix}\n",
    "a_{1,1}{x_1} + a_{1,2}{x_2} + \\cdots + a_{1,d}{x_d} \\\\\n",
    "a_{2,1}{x_1} + a_{2,2}{x_2} + \\cdots + a_{2,d}{x_d} \\\\\n",
    "\\vdots \\\\\n",
    "a_{n,1}{x_1} + a_{n,2}{x_2} + \\cdots + a_{n,d}{x_d} \\\\\n",
    "\\end{pmatrix}_{nx1}$\n",
    "\n",
    "$(A x)^{T} = $\n",
    "$\\begin{pmatrix}\n",
    "[a_{1,1}{x_1} + a_{1,2}{x_2} + \\cdots + a_{1,d}{x_d}] &\n",
    "[a_{2,1}{x_1} + a_{2,2}{x_2} + \\cdots + a_{2,d}{x_d}] &\n",
    "\\cdots  &\n",
    "[a_{n,1}{x_1} + a_{n,2}{x_2} + \\cdots + a_{n,d}{x_d}]\n",
    "\\end{pmatrix}_{1xn}$"
   ]
  },
  {
   "cell_type": "markdown",
   "metadata": {
    "id": "pQQ31KqjRdnZ"
   },
   "source": [
    "$A y = $\n",
    "$\\begin{pmatrix}\n",
    "a_{1,1}{y_1} + a_{1,2}{y_2} + \\cdots + a_{1,d}{y_d} \\\\\n",
    "a_{2,1}{y_1} + a_{2,2}{y_2} + \\cdots + a_{2,d}{y_d} \\\\\n",
    "\\vdots \\\\\n",
    "a_{n,1}{y_1} + a_{n,2}{y_2} + \\cdots + a_{n,d}{y_d} \\\\\n",
    "\\end{pmatrix}_{nx1}$\n",
    "\n"
   ]
  },
  {
   "cell_type": "markdown",
   "metadata": {
    "id": "MHEC19zARwq4"
   },
   "source": [
    "$(A x)^{T}  (A y) = $ \n",
    "$\\sum_{i = 1}^{n}\\sum_{j = 1}^{d}(a_{i,j} x_j  y_j)$\n",
    "\n",
    "\n",
    "**Remember this result:**\n",
    "\n",
    "$4  (A x)^{T}  (A y) = $ \n",
    "$4  \\sum_{i = 1}^{n}\\sum_{j = 1}^{d}(a_{i,j} x_j  y_j)$"
   ]
  },
  {
   "cell_type": "markdown",
   "metadata": {
    "id": "ks1Bk45uRjRY"
   },
   "source": [
    "\n",
    "\n",
    "---\n",
    "\n"
   ]
  },
  {
   "cell_type": "markdown",
   "metadata": {
    "id": "t7WZKYkjKsly"
   },
   "source": [
    "$A (x + y) = $\n",
    "$\\begin{pmatrix}\n",
    "a_{1,1}{(x_1 + y_1)} + a_{1,2}{(x_2 + y_2)} + \\cdots + a_{1,d}{(x_d + y_d)} \\\\\n",
    "a_{2,1}{(x_1 + y_1)} + a_{2,2}{(x_2 + y_2)} + \\cdots + a_{2,d}{(x_d + y_d)} \\\\\n",
    "\\vdots \\\\\n",
    "a_{2,1}{(x_1 + y_1)} + a_{n,2}{(x_2 + y_2)} + \\cdots + a_{n,d}{(x_d + y_d)} \\\\\n",
    "\\end{pmatrix}_{nx1}$\n",
    "\n",
    "\n",
    "$||A (x + y)||^2 = {\\sqrt{\\sum_{i = 1}^{n}[\\sum_{j = 1}^{d}a_{i,j} (x_j + y_j)]^2}}^2 = \\sum_{i = 1}^{n}[\\sum_{j = 1}^{d}a_{i,j} (x_j + y_j)]^2 = $\n",
    "$\\sum_{i = 1}^{n}([\\sum_{j = 1}^{d}a_{i,j} x_j]^2 + 2  [\\sum_{j = 1}^{d}a_{i,j} x_j]  [\\sum_{j = 1}^{d}a_{i,j} y_j] + [\\sum_{j = 1}^{d}a_{i,j} y_j]^2)$"
   ]
  },
  {
   "cell_type": "markdown",
   "metadata": {
    "id": "gNBfFAXzNbUa"
   },
   "source": [
    "$A (x - y) = $\n",
    "$\\begin{pmatrix}\n",
    "a_{1,1}{(x_1 - y_1)} + a_{1,2}{(x_2 - y_2)} + \\cdots + a_{1,d}{(x_d - y_d)} \\\\\n",
    "a_{2,1}{(x_1 - y_1)} + a_{2,2}{(x_2 - y_2)} + \\cdots + a_{2,d}{(x_d - y_d)} \\\\\n",
    "\\vdots \\\\\n",
    "a_{2,1}{(x_1 - y_1)} + a_{n,2}{(x_2 - y_2)} + \\cdots + a_{n,d}{(x_d - y_d)} \\\\\n",
    "\\end{pmatrix}_{nx1}$\n",
    "\n",
    "$||A (x - y)||^2 = {\\sqrt{\\sum_{i = 1}^{n}[\\sum_{j = 1}^{d}a_{i,j} (x_j - y_j)]^2}}^2 = \\sum_{i = 1}^{n}[\\sum_{j = 1}^{d}a_{i,j} (x_j - y_j)]^2 = $\n",
    "$\\sum_{i = 1}^{n}([\\sum_{j = 1}^{d}a_{i,j} x_j]^2 - 2  [\\sum_{j = 1}^{d}a_{i,j} x_j]  [\\sum_{j = 1}^{d}a_{i,j} y_j] + [\\sum_{j = 1}^{d}a_{i,j} -y_j]^2)$"
   ]
  },
  {
   "cell_type": "markdown",
   "metadata": {
    "id": "S9Ajk9ezOwEr"
   },
   "source": [
    "$||A (x + y)||^2 - ||A (x - y)||^2 = $\n",
    "$\\sum_{i = 1}^{n}([\\sum_{j = 1}^{d}a_{i,j} x_j]^2 + 2  [\\sum_{j = 1}^{d}a_{i,j} x_j]  [\\sum_{j = 1}^{d}a_{i,j} y_j] + [\\sum_{j = 1}^{d}a_{i,j} y_j]^2)$ \n",
    "$ - \\sum_{i = 1}^{n}([\\sum_{j = 1}^{d}a_{i,j} x_j]^2 - 2  [\\sum_{j = 1}^{d}a_{i,j} x_j]  [\\sum_{j = 1}^{d}a_{i,j} y_j] + [\\sum_{j = 1}^{d}a_{i,j} -y_j]^2)$\n",
    "$ = 4  [\\sum_{j = 1}^{d}a_{i,j} x_j]  [\\sum_{j = 1}^{d}a_{i,j} y_j]$\n",
    "$ = 4  \\sum_{i=1}^{n} \\sum_{j = 1}^{d}(a_{i,j} x_j  y_j)$\n"
   ]
  },
  {
   "cell_type": "markdown",
   "metadata": {
    "id": "1LP6Nwk-R9OR"
   },
   "source": [
    "$4  \\sum_{i = 1}^{n}\\sum_{j = 1}^{d}(a_{i,j} x_j  y_j) \\leftarrow $\n",
    "$4  (A x)^{T}  (A y) =$ \n",
    "$||A (x + y)||^2 - ||A (x - y)||^2 \\rightarrow$\n",
    "$4  \\sum_{i=1}^{n} \\sum_{j = 1}^{d}(a_{i,j} x_j  y_j)$"
   ]
  },
  {
   "cell_type": "markdown",
   "metadata": {
    "id": "Bi0f9923Miom"
   },
   "source": [
    "\n",
    "\n",
    "---\n",
    "\n"
   ]
  },
  {
   "cell_type": "markdown",
   "metadata": {
    "id": "wCR9CDddN2Rh"
   },
   "source": [
    "Side proof:\n",
    "\n",
    "$||x - y||^2 = ||x||^2 + ||y||^2 - 2||x||||y||cos(\\alpha)$ \n",
    "\n",
    "$2||x||||y||cos(\\alpha) = ||x||^2 + ||y||^2 - ||x - y||^2 = ||x||^2 + ||y||^2 - (x - y)^T(x - y) = \\dots = 2x^Ty$\n",
    "\n",
    "Side notes:\n",
    "\n",
    "1. $||x|| = ||y|| = 1$\n",
    "2. $||x - y||^2 = ||x||^2 + ||y||^2 - 2x^Ty$\n",
    "3. $||x + y||^2 = ||x||^2 + ||y||^2 + 2x^Ty$\n",
    "\n",
    "We can apply this to the proof of the section above.\n",
    "\n",
    "$||x + y||^2 - ||x - y||^2 = ||x||^2 + ||y||^2 + 2x^Ty - ||x||^2 + ||y||^2 - 2x^Ty = 4x^Ty$ \n",
    "\n",
    "where :\n",
    "\n",
    "1. $x = Ax$\n",
    "2. $y = Ay$\n",
    "\n",
    "$||x + y||^2 - ||x - y||^2 = 4(Ax)^T(Ay)$ "
   ]
  },
  {
   "cell_type": "markdown",
   "metadata": {
    "id": "or8S20yqN0YZ"
   },
   "source": [
    "\n",
    "\n",
    "---\n",
    "\n"
   ]
  },
  {
   "cell_type": "markdown",
   "metadata": {
    "id": "rJnvqORIOjNd"
   },
   "source": [
    "We know that,\n",
    "\n",
    "$(1-\\epsilon)||x|| \\leq ||Ax|| \\leq (1+\\epsilon)||x||$\n",
    "\n",
    "Hence, we can write these two inequations:\n",
    "\n",
    "1.   $(1-\\epsilon)||x + y||^2 \\leq ||A(x + y)||^2 \\leq (1+\\epsilon)||x + y||^2$\n",
    "2.   $(1-\\epsilon)||x - y||^2 \\leq ||A(x - y)||^2 \\leq (1+\\epsilon)||x - y||^2$\n",
    "\n",
    "from inequation 1 we can see that: \n",
    "\n",
    " $(1-\\epsilon)||x + y||^2 \\leq ||A(x + y)||^2$\n",
    "\n",
    "and from inequation 2 we see that:\n",
    "\n",
    "$||A(x - y)||^2 \\leq (1+\\epsilon)||x - y||^2 \\rightarrow -(1+\\epsilon)||x - y||^2 \\leq -||A(x - y)||^2$\n",
    "\n",
    "Next, adding them up:\n",
    "\n",
    "$||A(x + y)||^2 - ||A(x - y)||^2 \\geq (1 - \\epsilon)||x + y||^2 -(1 + \\epsilon)||x - y||^2$\n",
    "\n",
    "$4(Ax)^T(Ay) \\geq (1 - \\epsilon)(||x||^2 + ||y||^2 + 2x^Ty) - (1 + \\epsilon)(||x||^2 + ||y||^2 - 2x^Ty)$\n",
    "\n",
    "$4(Ax)^T(Ay) \\geq (1 - \\epsilon)(1 + 1 + 2x^Ty) - (1 + \\epsilon)(1 + 1 - 2x^Ty)$\n",
    "\n",
    "$4(Ax)^T(Ay) \\geq 4x^Ty -4\\epsilon$\n",
    "\n",
    "$(Ax)^T(Ay) \\geq x^Ty -\\epsilon$\n",
    "\n",
    "The same process apply to the other side:\n",
    "\n",
    "from inequation 1 we can see that: \n",
    "\n",
    "$||A(x + y)||^2 \\leq (1+\\epsilon)||x + y||^2$\n",
    "\n",
    "and from inequation 2 we see that:\n",
    "\n",
    "$(1-\\epsilon)||x - y||^2 \\leq ||A(x - y)||^2 \\rightarrow -||A(x - y)||^2 \\leq -(1-\\epsilon)||x - y||^2$\n",
    "\n",
    "Next, adding them up:\n",
    "\n",
    "$||A(x + y)||^2 - ||A(x - y)||^2 \\leq (1 + \\epsilon)||x + y||^2 - (1 - \\epsilon)||x - y||^2$\n",
    "\n",
    "\n",
    "$4(Ax)^T(Ay) \\leq (1 + \\epsilon)(||x||^2 + ||y||^2 + 2x^Ty) - (1 - \\epsilon)(||x||^2 + ||y||^2 - 2x^Ty)$\n",
    "\n",
    "$4(Ax)^T(Ay) \\leq (1 + \\epsilon)(1 + 1 + 2x^Ty) - (1 - \\epsilon)(1 + 1 - 2x^Ty)$\n",
    "\n",
    "$4(Ax)^T(Ay) \\leq 4x^Ty + 4\\epsilon$\n",
    "\n",
    "$(Ax)^T(Ay) \\leq x^Ty +\\epsilon$\n",
    "\n",
    "In conclusion:\n",
    "\n",
    "$x^Ty - \\epsilon \\leq (Ax)^T(Ay) \\leq x^Ty + \\epsilon$"
   ]
  },
  {
   "cell_type": "markdown",
   "metadata": {
    "id": "M8Z40wWNLYf9"
   },
   "source": [
    "As written in the question we know in probability of $1 - 2e^{-c\\epsilon^{2}k}$ the inequality $(1-\\epsilon)||x|| \\leq ||Ax|| \\leq (1+\\epsilon)||x||$ takes place.\n",
    "\n",
    "In our proof we used twice the inequaltiy above therefore we can create better upper boundary\n",
    "\n",
    "$JL_1 \\cap JL_2 \\leq JL_1 \\cup JL_2 \\leq 1 - 4e^{-c\\epsilon^{2}k}$  where $\\epsilon < \\frac{1}{2}$"
   ]
  },
  {
   "cell_type": "markdown",
   "metadata": {
    "id": "dic4eeqH11y4"
   },
   "source": [
    "# Wet Section"
   ]
  },
  {
   "cell_type": "markdown",
   "metadata": {
    "id": "BcJdbwfN2FFI"
   },
   "source": [
    "**Note**\n",
    "\n",
    "In this implemetation to reduce runtime I'll calculate the frequency of each unique element instead of calculate hash each item and so on...\n",
    "\n",
    "This is just simulation and the results will be the same."
   ]
  },
  {
   "cell_type": "code",
   "execution_count": 1,
   "metadata": {
    "id": "3-3M2ojy14fl"
   },
   "outputs": [],
   "source": [
    "import random\n",
    "import numpy as np"
   ]
  },
  {
   "cell_type": "code",
   "execution_count": null,
   "metadata": {
    "id": "7iAfwZlosj5o"
   },
   "outputs": [],
   "source": [
    "import matplotlib.pyplot as plt\n",
    "import seaborn as sns\n",
    "\n",
    "sns.set_theme(style=\"whitegrid\")"
   ]
  },
  {
   "cell_type": "code",
   "execution_count": null,
   "metadata": {
    "id": "AUgLtDx33EwA"
   },
   "outputs": [],
   "source": [
    "random.seed(1)"
   ]
  },
  {
   "cell_type": "code",
   "execution_count": null,
   "metadata": {
    "id": "HccCODks17if"
   },
   "outputs": [],
   "source": [
    "SIZE = 10 ** 6\n",
    "\n",
    "np.random.seed(seed=0)\n",
    "stream = np.random.randint(low=0, high=SIZE / 10, size=SIZE)"
   ]
  },
  {
   "cell_type": "code",
   "execution_count": null,
   "metadata": {
    "id": "v8CZVMpl1_Ff"
   },
   "outputs": [],
   "source": [
    "freq = np.zeros(np.max(stream) + 1)\n",
    "\n",
    "for _ in stream:\n",
    "    freq[_] += 1"
   ]
  },
  {
   "cell_type": "code",
   "execution_count": null,
   "metadata": {
    "id": "tXr72EoC3AXo"
   },
   "outputs": [],
   "source": [
    "def calc_f2(_freq: np.ndarray) -> int:\n",
    "    return np.sum(np.power(_freq, 2))"
   ]
  },
  {
   "cell_type": "code",
   "execution_count": null,
   "metadata": {
    "colab": {
     "base_uri": "https://localhost:8080/"
    },
    "id": "QwRaASOp3BY4",
    "outputId": "8a1da4b5-8362-47ed-c15a-0b980df06271"
   },
   "outputs": [
    {
     "name": "stdout",
     "output_type": "stream",
     "text": [
      "11000378.0\n"
     ]
    }
   ],
   "source": [
    "f2 = calc_f2(_freq=freq)\n",
    "print(f2)"
   ]
  },
  {
   "cell_type": "code",
   "execution_count": null,
   "metadata": {
    "id": "dXDt2P_n3JBI"
   },
   "outputs": [],
   "source": [
    "def ams(_freq: np.ndarray) -> int:\n",
    "    x = 0\n",
    "\n",
    "    for f in _freq:\n",
    "        x += random.choice([-1, 1]) * f\n",
    "\n",
    "    return np.power(x, 2)"
   ]
  },
  {
   "cell_type": "code",
   "execution_count": null,
   "metadata": {
    "id": "oPacVIUK3Pt4"
   },
   "outputs": [],
   "source": [
    "def run_simulation(rows: int, cols: int) -> np.ndarray:\n",
    "    res = np.zeros((rows, cols))\n",
    "\n",
    "    for i in range(rows):\n",
    "        for j in range(cols):\n",
    "            res[i, j] = ams(_freq=freq)\n",
    "    \n",
    "    return res"
   ]
  },
  {
   "cell_type": "code",
   "execution_count": null,
   "metadata": {
    "id": "tcZ8Pg-B4Fqo"
   },
   "outputs": [],
   "source": [
    "def show_results(results: np.ndarray) -> (int, int):\n",
    "    print(\"-\" * 10, \"Real F2\", \"-\" * 10)\n",
    "    print(f2, \"\\n\\n\")\n",
    "\n",
    "    print(\"-\" * 10, \"Median of Means\", \"-\" * 10)\n",
    "    means = np.mean(results, axis=1)\n",
    "    median_of_means = np.round(np.median(means), 2)\n",
    "    print(median_of_means, \"\\n\")\n",
    "\n",
    "    print(\"-\" * 10, \"Difference\", \"-\" * 10)\n",
    "    diff_median_of_means = np.abs(f2 - median_of_means) / f2 * 100\n",
    "    print(np.round(diff_median_of_means, 2), \"%\")\n",
    "\n",
    "    print('\\n\\n')\n",
    "\n",
    "    print(\"-\" * 10, \"Mean of Medians\", \"-\" * 10)\n",
    "    medians = np.median(results, axis=1)\n",
    "    mean_of_medians = np.round(np.median(medians), 2)\n",
    "    print(mean_of_medians, \"\\n\")\n",
    "\n",
    "    print(\"-\" * 10, \"Difference\", \"-\" * 10)\n",
    "    diff_mean_of_medians = np.abs(f2 - mean_of_medians) / f2 * 100\n",
    "    print(np.round(diff_mean_of_medians, 2), \"%\")\n",
    "\n",
    "    print('\\n\\n')\n",
    "\n",
    "    return diff_median_of_means, diff_mean_of_medians"
   ]
  },
  {
   "cell_type": "code",
   "execution_count": null,
   "metadata": {
    "colab": {
     "base_uri": "https://localhost:8080/"
    },
    "id": "gWZ-uZqv5ku4",
    "outputId": "97d7d33e-f871-4f8d-d583-c68f2324ba3a"
   },
   "outputs": [
    {
     "name": "stdout",
     "output_type": "stream",
     "text": [
      "---------- Real F2 ----------\n",
      "11000378.0 \n",
      "\n",
      "\n",
      "---------- Median of Means ----------\n",
      "5127294.4 \n",
      "\n",
      "---------- Difference ----------\n",
      "53.39 %\n",
      "\n",
      "\n",
      "\n",
      "---------- Mean of Medians ----------\n",
      "3182656.0 \n",
      "\n",
      "---------- Difference ----------\n",
      "71.07 %\n",
      "\n",
      "\n",
      "\n"
     ]
    }
   ],
   "source": [
    "res_5_5 = run_simulation(rows=5, cols=5)\n",
    "\n",
    "diff_5_5_median_of_means, diff_5_5_mean_of_medians = show_results(results=res_5_5)"
   ]
  },
  {
   "cell_type": "code",
   "execution_count": null,
   "metadata": {
    "colab": {
     "base_uri": "https://localhost:8080/"
    },
    "id": "gcmaW8r97tQQ",
    "outputId": "94ac9b42-b4ee-49c0-fa5c-ba37e7d7180a"
   },
   "outputs": [
    {
     "name": "stdout",
     "output_type": "stream",
     "text": [
      "---------- Real F2 ----------\n",
      "11000378.0 \n",
      "\n",
      "\n",
      "---------- Median of Means ----------\n",
      "9194974.0 \n",
      "\n",
      "---------- Difference ----------\n",
      "16.41 %\n",
      "\n",
      "\n",
      "\n",
      "---------- Mean of Medians ----------\n",
      "4167257.0 \n",
      "\n",
      "---------- Difference ----------\n",
      "62.12 %\n",
      "\n",
      "\n",
      "\n"
     ]
    }
   ],
   "source": [
    "res_10_10 = run_simulation(rows=10, cols=10)\n",
    "\n",
    "diff_10_10_median_of_means, diff_10_10_mean_of_medians = show_results(results=res_10_10)"
   ]
  },
  {
   "cell_type": "code",
   "execution_count": null,
   "metadata": {
    "colab": {
     "base_uri": "https://localhost:8080/"
    },
    "id": "VUOe2VWv7yom",
    "outputId": "6470f547-1bf1-4db2-c8cb-693f8e011c72"
   },
   "outputs": [
    {
     "name": "stdout",
     "output_type": "stream",
     "text": [
      "---------- Real F2 ----------\n",
      "11000378.0 \n",
      "\n",
      "\n",
      "---------- Median of Means ----------\n",
      "9391173.87 \n",
      "\n",
      "---------- Difference ----------\n",
      "14.63 %\n",
      "\n",
      "\n",
      "\n",
      "---------- Mean of Medians ----------\n",
      "4910656.0 \n",
      "\n",
      "---------- Difference ----------\n",
      "55.36 %\n",
      "\n",
      "\n",
      "\n"
     ]
    }
   ],
   "source": [
    "res_15_15 = run_simulation(rows=15, cols=15)\n",
    "\n",
    "diff_15_15_median_of_means, diff_15_15_mean_of_medians = show_results(results=res_15_15)"
   ]
  },
  {
   "cell_type": "code",
   "execution_count": null,
   "metadata": {
    "colab": {
     "base_uri": "https://localhost:8080/"
    },
    "id": "YOxNIxKo7zav",
    "outputId": "0ed0a1c5-141c-4f6f-f37a-94a1cb01104f"
   },
   "outputs": [
    {
     "name": "stdout",
     "output_type": "stream",
     "text": [
      "---------- Real F2 ----------\n",
      "11000378.0 \n",
      "\n",
      "\n",
      "---------- Median of Means ----------\n",
      "11625418.1 \n",
      "\n",
      "---------- Difference ----------\n",
      "5.68 %\n",
      "\n",
      "\n",
      "\n",
      "---------- Mean of Medians ----------\n",
      "5497691.0 \n",
      "\n",
      "---------- Difference ----------\n",
      "50.02 %\n",
      "\n",
      "\n",
      "\n"
     ]
    }
   ],
   "source": [
    "res_20_20 = run_simulation(rows=20, cols=20)\n",
    "\n",
    "diff_20_20_median_of_means, diff_20_20_mean_of_medians = show_results(results=res_20_20)"
   ]
  },
  {
   "cell_type": "code",
   "execution_count": null,
   "metadata": {
    "colab": {
     "base_uri": "https://localhost:8080/"
    },
    "id": "jAp3G8Mg71Wf",
    "outputId": "4e78858a-07bf-4eb3-e5c5-3594e171465d"
   },
   "outputs": [
    {
     "name": "stdout",
     "output_type": "stream",
     "text": [
      "---------- Real F2 ----------\n",
      "11000378.0 \n",
      "\n",
      "\n",
      "---------- Median of Means ----------\n",
      "11642260.87 \n",
      "\n",
      "---------- Difference ----------\n",
      "5.84 %\n",
      "\n",
      "\n",
      "\n",
      "---------- Mean of Medians ----------\n",
      "4634774.0 \n",
      "\n",
      "---------- Difference ----------\n",
      "57.87 %\n",
      "\n",
      "\n",
      "\n"
     ]
    }
   ],
   "source": [
    "res_30_30 = run_simulation(rows=30, cols=30)\n",
    "\n",
    "diff_30_30_median_of_means, diff_30_30_mean_of_medians = show_results(results=res_30_30)"
   ]
  },
  {
   "cell_type": "code",
   "execution_count": null,
   "metadata": {
    "colab": {
     "base_uri": "https://localhost:8080/"
    },
    "id": "Foy3UEYo73AX",
    "outputId": "535196e3-cbda-4fd4-ac24-9a406ca355fa"
   },
   "outputs": [
    {
     "name": "stdout",
     "output_type": "stream",
     "text": [
      "---------- Real F2 ----------\n",
      "11000378.0 \n",
      "\n",
      "\n",
      "---------- Median of Means ----------\n",
      "10490032.95 \n",
      "\n",
      "---------- Difference ----------\n",
      "4.64 %\n",
      "\n",
      "\n",
      "\n",
      "---------- Mean of Medians ----------\n",
      "5292573.0 \n",
      "\n",
      "---------- Difference ----------\n",
      "51.89 %\n",
      "\n",
      "\n",
      "\n"
     ]
    }
   ],
   "source": [
    "res_40_40 = run_simulation(rows=40, cols=40)\n",
    "\n",
    "diff_40_40_median_of_means, diff_40_40_mean_of_medians = show_results(results=res_40_40)"
   ]
  },
  {
   "cell_type": "code",
   "execution_count": null,
   "metadata": {
    "colab": {
     "base_uri": "https://localhost:8080/"
    },
    "id": "_8LdXuQJ74_2",
    "outputId": "649a96aa-bf03-473d-bba8-9b71f1b1e319"
   },
   "outputs": [
    {
     "name": "stdout",
     "output_type": "stream",
     "text": [
      "---------- Real F2 ----------\n",
      "11000378.0 \n",
      "\n",
      "\n",
      "---------- Median of Means ----------\n",
      "11076835.64 \n",
      "\n",
      "---------- Difference ----------\n",
      "0.7 %\n",
      "\n",
      "\n",
      "\n",
      "---------- Mean of Medians ----------\n",
      "5169631.0 \n",
      "\n",
      "---------- Difference ----------\n",
      "53.0 %\n",
      "\n",
      "\n",
      "\n"
     ]
    }
   ],
   "source": [
    "res_50_50 = run_simulation(rows=50, cols=50)\n",
    "\n",
    "diff_50_50_median_of_means, diff_50_50_mean_of_medians = show_results(results=res_50_50)"
   ]
  },
  {
   "cell_type": "code",
   "execution_count": null,
   "metadata": {
    "colab": {
     "base_uri": "https://localhost:8080/"
    },
    "id": "zWZRYsUQ7642",
    "outputId": "02966fb9-7408-4248-e661-335658119689"
   },
   "outputs": [
    {
     "name": "stdout",
     "output_type": "stream",
     "text": [
      "---------- Real F2 ----------\n",
      "11000378.0 \n",
      "\n",
      "\n",
      "---------- Median of Means ----------\n",
      "11128175.31 \n",
      "\n",
      "---------- Difference ----------\n",
      "1.16 %\n",
      "\n",
      "\n",
      "\n",
      "---------- Mean of Medians ----------\n",
      "4946176.0 \n",
      "\n",
      "---------- Difference ----------\n",
      "55.04 %\n",
      "\n",
      "\n",
      "\n"
     ]
    }
   ],
   "source": [
    "res_75_75 = run_simulation(rows=75, cols=75)\n",
    "\n",
    "diff_75_75_median_of_means, diff_75_75_mean_of_medians = show_results(results=res_75_75)"
   ]
  },
  {
   "cell_type": "code",
   "execution_count": null,
   "metadata": {
    "colab": {
     "base_uri": "https://localhost:8080/"
    },
    "id": "YqrTnzA2786P",
    "outputId": "a4ded08f-42fb-4031-ca67-036c7d85a41e"
   },
   "outputs": [
    {
     "name": "stdout",
     "output_type": "stream",
     "text": [
      "---------- Real F2 ----------\n",
      "11000378.0 \n",
      "\n",
      "\n",
      "---------- Median of Means ----------\n",
      "11002492.16 \n",
      "\n",
      "---------- Difference ----------\n",
      "0.02 %\n",
      "\n",
      "\n",
      "\n",
      "---------- Mean of Medians ----------\n",
      "4973262.0 \n",
      "\n",
      "---------- Difference ----------\n",
      "54.79 %\n",
      "\n",
      "\n",
      "\n"
     ]
    }
   ],
   "source": [
    "res_100_100 = run_simulation(rows=100, cols=100)\n",
    "\n",
    "diff_100_100_median_of_means, diff_100_100_mean_of_medians = show_results(results=res_100_100)"
   ]
  },
  {
   "cell_type": "markdown",
   "metadata": {
    "id": "hYFrpUy1OFyZ"
   },
   "source": [
    "**Note**\n",
    "\n",
    "The number of rows can be different from the number of columns."
   ]
  },
  {
   "cell_type": "code",
   "execution_count": null,
   "metadata": {
    "colab": {
     "base_uri": "https://localhost:8080/",
     "height": 316
    },
    "id": "XWp8E90y7_uu",
    "outputId": "d1c5ece8-dcca-40c5-fe7e-8293a814dbf3"
   },
   "outputs": [
    {
     "data": {
      "image/png": "[encoded data removed]",
      "text/plain": [
       "<Figure size 432x288 with 1 Axes>"
      ]
     },
     "metadata": {
      "tags": []
     },
     "output_type": "display_data"
    }
   ],
   "source": [
    "estimators = [5 ** 2,\n",
    "              10 ** 2,\n",
    "              15 ** 2,\n",
    "              20 ** 2,\n",
    "              30 ** 2,\n",
    "              40 ** 2,\n",
    "              50 ** 2,\n",
    "              75 ** 2,\n",
    "              100 ** 2]\n",
    "\n",
    "xticks = np.arange(len(estimators))\n",
    "deviation = [diff_5_5_median_of_means,\n",
    "             diff_10_10_median_of_means,\n",
    "             diff_15_15_median_of_means,\n",
    "             diff_20_20_median_of_means,\n",
    "             diff_30_30_median_of_means,\n",
    "             diff_40_40_median_of_means,\n",
    "             diff_50_50_median_of_means,\n",
    "             diff_75_75_median_of_means,\n",
    "             diff_100_100_median_of_means]\n",
    "\n",
    "precision = 100 - np.array(deviation)\n",
    "\n",
    "plt.bar(xticks, precision, align='center', alpha=0.57)\n",
    "plt.xticks(xticks, estimators)\n",
    "\n",
    "plt.xlabel(\"Estimators count\")\n",
    "plt.ylabel('Precision')\n",
    "plt.title('Precision (100 - Deviation)\\nMedian of Means')\n",
    "\n",
    "plt.ylim(0, 100)\n",
    "\n",
    "plt.show()"
   ]
  },
  {
   "cell_type": "code",
   "execution_count": null,
   "metadata": {
    "colab": {
     "base_uri": "https://localhost:8080/",
     "height": 316
    },
    "id": "fHJxvfUSsJDR",
    "outputId": "06e14097-e2c3-47a5-98de-0f35cbc3fd96"
   },
   "outputs": [
    {
     "data": {
      "image/png": "[encoded data removed]",
      "text/plain": [
       "<Figure size 432x288 with 1 Axes>"
      ]
     },
     "metadata": {
      "tags": []
     },
     "output_type": "display_data"
    }
   ],
   "source": [
    "estimators = [5 ** 2,\n",
    "              10 ** 2,\n",
    "              15 ** 2,\n",
    "              20 ** 2,\n",
    "              30 ** 2,\n",
    "              40 ** 2,\n",
    "              50 ** 2,\n",
    "              75 ** 2,\n",
    "              100 ** 2]\n",
    "\n",
    "xticks = np.arange(len(estimators))\n",
    "deviation = [diff_5_5_median_of_means,\n",
    "             diff_10_10_median_of_means,\n",
    "             diff_15_15_median_of_means,\n",
    "             diff_20_20_median_of_means,\n",
    "             diff_30_30_median_of_means,\n",
    "             diff_40_40_median_of_means,\n",
    "             diff_50_50_median_of_means,\n",
    "             diff_75_75_median_of_means,\n",
    "             diff_100_100_median_of_means]\n",
    "\n",
    "precision = 100 - np.array(deviation)\n",
    "\n",
    "plt.bar(xticks, precision, align='center', alpha=0.57)\n",
    "plt.xticks(xticks, estimators)\n",
    "\n",
    "plt.xlabel(\"Estimators count\")\n",
    "plt.ylabel('Precision')\n",
    "plt.title('Precision (100 - Deviation)\\nMedian of Means')\n",
    "\n",
    "plt.ylim(0, 100)\n",
    "\n",
    "plt.show()"
   ]
  },
  {
   "cell_type": "code",
   "execution_count": null,
   "metadata": {
    "colab": {
     "base_uri": "https://localhost:8080/",
     "height": 316
    },
    "id": "G2cer-dMFP21",
    "outputId": "30a41cf1-9664-439b-ab79-5d4df73d7fb1"
   },
   "outputs": [
    {
     "data": {
      "image/png": "[encoded data removed]",
      "text/plain": [
       "<Figure size 432x288 with 1 Axes>"
      ]
     },
     "metadata": {
      "tags": []
     },
     "output_type": "display_data"
    }
   ],
   "source": [
    "estimators = [5 ** 2,\n",
    "              10 ** 2,\n",
    "              15 ** 2,\n",
    "              20 ** 2,\n",
    "              30 ** 2,\n",
    "              40 ** 2,\n",
    "              50 ** 2,\n",
    "              75 ** 2,\n",
    "              100 ** 2]\n",
    "\n",
    "xticks = np.arange(len(estimators))\n",
    "deviation = [diff_5_5_mean_of_medians,\n",
    "             diff_10_10_mean_of_medians,\n",
    "             diff_15_15_mean_of_medians,\n",
    "             diff_20_20_mean_of_medians,\n",
    "             diff_30_30_mean_of_medians,\n",
    "             diff_40_40_mean_of_medians,\n",
    "             diff_50_50_mean_of_medians,\n",
    "             diff_75_75_mean_of_medians,\n",
    "             diff_100_100_mean_of_medians]\n",
    "\n",
    "precision = 100 - np.array(deviation)\n",
    "\n",
    "plt.bar(xticks, precision, align='center', alpha=0.57)\n",
    "plt.xticks(xticks, estimators)\n",
    "\n",
    "plt.xlabel(\"Estimators count\")\n",
    "plt.ylabel('Precision')\n",
    "plt.title('Precision (100 - Deviation)\\nMean of Medians')\n",
    "\n",
    "plt.ylim(0, 100)\n",
    "\n",
    "plt.axhline(50, color='red', alpha=0.6)\n",
    "plt.text(3.5, 52, '50%', color='black', fontsize=20, alpha=0.85)\n",
    "\n",
    "plt.show()"
   ]
  },
  {
   "cell_type": "markdown",
   "metadata": {
    "id": "oClIPl_XoXG6"
   },
   "source": [
    "Results\n",
    "--\n",
    "\n",
    "First, I'll note that in the code above the number of columns is equals to the number of \"Alpha estimators\" and the number of rows is equlas to the nubmer of \"Beta estimators\".\n",
    "\n",
    "As we can see in the first results (median of means) as we grow our estimators (both alpha and beta) the result is converging to an $\\epsilon$ error where $\\epsilon$ close to zero $\\rightarrow$ unbiased. $\\checkmark$\n",
    "\n",
    "On the other hand we can see in the second results (mean of medians) as we grow our estimators the reuslt is converging to 50% error, this is not by accident!\n",
    "\n",
    "We can say for sure that the second version (mean of medians) is biased!\n",
    "\n",
    "This can be happening due to the distribution of our basic estimators (our alpha)."
   ]
  },
  {
   "cell_type": "markdown",
   "metadata": {
    "id": "O6d5WmNmv4wH"
   },
   "source": [
    "We can examine this theory by run a test of 1 row and 1000 columns.\n",
    "\n"
   ]
  },
  {
   "cell_type": "code",
   "execution_count": null,
   "metadata": {
    "colab": {
     "base_uri": "https://localhost:8080/"
    },
    "id": "SckUrRsjV1y4",
    "outputId": "d9bf1ab5-1f8e-40ca-96fe-80d957f38b07"
   },
   "outputs": [
    {
     "name": "stdout",
     "output_type": "stream",
     "text": [
      "---------- Real F2 ----------\n",
      "11000378.0 \n",
      "\n",
      "\n",
      "---------- Median of Means ----------\n",
      "11422924.8 \n",
      "\n",
      "---------- Difference ----------\n",
      "3.84 %\n",
      "\n",
      "\n",
      "\n",
      "---------- Mean of Medians ----------\n",
      "5484968.0 \n",
      "\n",
      "---------- Difference ----------\n",
      "50.14 %\n",
      "\n",
      "\n",
      "\n"
     ]
    }
   ],
   "source": [
    "res_1_1000 = run_simulation(rows=1, cols=1000)\n",
    "\n",
    "diff_1_1000_median_of_means, diff_1_1000_mean_of_medians = show_results(results=res_1_1000)"
   ]
  },
  {
   "cell_type": "markdown",
   "metadata": {
    "id": "fDoOGCnDwL1w"
   },
   "source": [
    "As we can see we converging to 50% error (Mean of Medians, mean have no meaning because our rows equals to 1).\n",
    "\n",
    "\n"
   ]
  }
 ],
 "metadata": {
  "colab": {
   "collapsed_sections": [],
   "name": "316298876.ipynb",
   "provenance": [],
   "toc_visible": true
  },
  "kernelspec": {
   "display_name": "Python 3",
   "language": "python",
   "name": "python3"
  },
  "language_info": {
   "codemirror_mode": {
    "name": "ipython",
    "version": 3
   },
   "file_extension": ".py",
   "mimetype": "text/x-python",
   "name": "python",
   "nbconvert_exporter": "python",
   "pygments_lexer": "ipython3",
   "version": "3.7.6"
  }
 },
 "nbformat": 4,
 "nbformat_minor": 1
}
