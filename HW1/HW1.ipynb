{
  "nbformat": 4,
  "nbformat_minor": 0,
  "metadata": {
    "colab": {
      "name": "Stream_HW_1.ipynb",
      "provenance": [],
      "collapsed_sections": [],
      "toc_visible": true
    },
    "kernelspec": {
      "display_name": "Python 3",
      "name": "python3"
    }
  },
  "cells": [
    {
      "cell_type": "markdown",
      "metadata": {
        "id": "Ag7JfA1eQiSm"
      },
      "source": [
        "**Name:** Stav Yosef\r\n",
        "\r\n",
        "**ID:** 316298876"
      ]
    },
    {
      "cell_type": "markdown",
      "metadata": {
        "id": "N5sajm7NRSLk"
      },
      "source": [
        "**Colab link:** https://colab.research.google.com/drive/1WyvQVSg7MeZL0HQMxc1v-w-V53M570dO?usp=sharing"
      ]
    },
    {
      "cell_type": "markdown",
      "metadata": {
        "id": "gi6j-FKO1UZL"
      },
      "source": [
        "# Dry Section"
      ]
    },
    {
      "cell_type": "markdown",
      "metadata": {
        "id": "-DiwU_KG1kVp"
      },
      "source": [
        "## Morris"
      ]
    },
    {
      "cell_type": "markdown",
      "metadata": {
        "id": "d4CO13sjrlZR"
      },
      "source": [
        "We need to change the probability that we increase our counter to $(1+beta)^{counter}$\n",
        "\n",
        "Also we need to change the result calculation to $\\frac{(1+beta)^{counter}}{beta} - 1$"
      ]
    },
    {
      "cell_type": "markdown",
      "metadata": {
        "id": "3XBQ3XWvSBEI"
      },
      "source": [
        " **Proof:**\n",
        "\n",
        "$E(b^{X_{k+1}}) = \\sum_{i=1}^{\\infty} Pr\\left[X_k=i\\right]E\\left[b^{X_{k+1}}|X_k=i\\right] =$\n",
        "\n",
        "$\\sum_{i=1}^{\\infty} Pr\\left[X_k=i\\right](\\frac{1}{b^i}b^{i+1}+(1-\\frac{1}{b^i})b^i) = $\n",
        "\n",
        "$\\sum_{i=1}^{\\infty} Pr\\left[X_k=i\\right](b + b^j - 1) = $\n",
        "\n",
        "$\\left[\\sum_{i=1}^{\\infty} Pr\\left[X_k=i\\right]b\\right] + \\left[\\sum_{i=1}^{\\infty} Pr\\left[X_k=i\\right]b^j\\right] + \\left[\\sum_{i=1}^{\\infty} Pr\\left[X_k=i\\right](-1)\\right] =$\n",
        "\n",
        "$\\left[\\sum_{i=1}^{\\infty} Pr\\left[X_k=i\\right]b\\right] + b - 1 = E(b^{X_{k}}) + b - 1$\n",
        "\n",
        "$E(b^{X_{k}})=E(b^{X_{k-1}}) + b - 1 = \\ldots = E(b^{X_{0}}) + k(b - 1) = 1 + k(b-1)$\n",
        "\n",
        "$\\frac{E(b^{X_{k}}-1)}{b-1} = k$\n",
        "\n",
        "Conclusion:\n",
        "\n",
        "$\\hat{n} = \\frac{b^{X_{n}}-1}{b-1}$\n",
        "\n",
        "If $b = 2$ Then, $\\hat{n} = \\frac{2^{X_{n}}-1}{1}$\n"
      ]
    },
    {
      "cell_type": "markdown",
      "metadata": {
        "id": "Wq60IYc11dIZ"
      },
      "source": [
        "## Heavy Hitters"
      ]
    },
    {
      "cell_type": "markdown",
      "metadata": {
        "id": "imRgo_NZ2S1M"
      },
      "source": [
        "First, for intuition let's start with an example.\r\n",
        "\r\n",
        "Suppose $N=10$ and $L=2$ then $f_a\\geq\\frac{N}{L}=5$.\r\n",
        "\r\n",
        "Assume that $a=3$ and repeats 5 times and we want to take it \"out\" from our backets ($L=2$),\r\n",
        "\r\n",
        "So we need at least 6 differents items to do so, because the first different item will go the other bucket and then we need more 5 items in order to decrease $a$ to zero but we have only 4 left... Then $a$ will be in our buckets\r\n"
      ]
    },
    {
      "cell_type": "markdown",
      "metadata": {
        "id": "mm94UCjzppra"
      },
      "source": [
        "Proof by contradiction\r\n",
        "\r\n",
        "Suppose $N=stream_{length}, L=buckets$  then $f_a\\geq\\frac{N}{L}$.\r\n",
        "\r\n",
        "Assume $a$ does not exist after we receive our stream ($N$)\r\n",
        "\r\n",
        "Then we must decrease $a$, $f_{a}$ times $\\rightarrow$ we have at least $f_{a} + 1=$ differents items.\r\n",
        "\r\n",
        "For each decrease we \"removing\" L items $\\rightarrow$ total of items we decreased is $(f_{a} + 1)\\times{L}$ but $(\\frac{N}{L} + 1)\\times{L} > N$\r\n",
        "\r\n",
        "Thus a contradiction! $\\rightarrow{a}$ will be in our buckets.\r\n",
        "\r\n"
      ]
    },
    {
      "cell_type": "markdown",
      "metadata": {
        "id": "H2pLFn9sqOvS"
      },
      "source": [
        "$f_a - \\epsilon{N} \\leq \\hat{f_a} \\leq f_a$\r\n",
        "\r\n",
        "$f_a \\geq \\hat{f_a}$ that's obvious no need to explain it...\r\n",
        "\r\n",
        "now let's choose $L=\\frac{1}{\\epsilon} \\rightarrow \\epsilon = \\frac{1}{L}$\r\n",
        "\r\n",
        "$\\frac{N}{L} = N\\frac{1}{L} = N\\epsilon \\rightarrow f_a - \\epsilon{N} \\leq \\hat{f_a} \\leq f_a$\r\n",
        "\r\n",
        "Left side is with the same intuition as we proof $f_a\\geq\\frac{N}{L}$ above."
      ]
    },
    {
      "cell_type": "markdown",
      "metadata": {
        "id": "Zm5JhfB81Z5J"
      },
      "source": [
        "# Wet Section"
      ]
    },
    {
      "cell_type": "markdown",
      "metadata": {
        "id": "z86ZSjuB2Amf"
      },
      "source": [
        "## Setup"
      ]
    },
    {
      "cell_type": "code",
      "metadata": {
        "id": "r4ipGJyxf2si",
        "colab": {
          "base_uri": "https://localhost:8080/"
        },
        "outputId": "12bc0318-f38c-4804-9982-06cfed782bb6"
      },
      "source": [
        "!pip install numpy mmh3"
      ],
      "execution_count": null,
      "outputs": [
        {
          "output_type": "stream",
          "text": [
            "Requirement already satisfied: numpy in /usr/local/lib/python3.6/dist-packages (1.18.5)\n",
            "Requirement already satisfied: mmh3 in /usr/local/lib/python3.6/dist-packages (2.5.1)\n"
          ],
          "name": "stdout"
        }
      ]
    },
    {
      "cell_type": "code",
      "metadata": {
        "id": "KGk0J2_P6j6Z"
      },
      "source": [
        "import mmh3"
      ],
      "execution_count": null,
      "outputs": []
    },
    {
      "cell_type": "code",
      "metadata": {
        "id": "tbTEIbHQworF"
      },
      "source": [
        "import random\n",
        "import time\n",
        "\n",
        "import numpy as np\n",
        "import matplotlib.pyplot as plt"
      ],
      "execution_count": null,
      "outputs": []
    },
    {
      "cell_type": "code",
      "metadata": {
        "id": "O3-H5gjuP7ld"
      },
      "source": [
        "HIGH = 1000000\n",
        "MAX = 2000000000\n",
        "\n",
        "def generate_stream() -> np.ndarray:\n",
        "    np.random.seed(580)\n",
        "    return np.random.randint(low=0, high=HIGH, size=1000000)"
      ],
      "execution_count": null,
      "outputs": []
    },
    {
      "cell_type": "markdown",
      "metadata": {
        "id": "Ik_lE76k1rkB"
      },
      "source": [
        "## Morris"
      ]
    },
    {
      "cell_type": "code",
      "metadata": {
        "id": "zMl3gjqywpks"
      },
      "source": [
        "# region Morris"
      ],
      "execution_count": null,
      "outputs": []
    },
    {
      "cell_type": "code",
      "metadata": {
        "id": "coNR4h-rwrMk"
      },
      "source": [
        "class MorrisA:\n",
        "    def __init__(self):\n",
        "        self.counter = 0.0\n",
        "        self.prob = 1.0\n",
        "        self.base = 2\n",
        "\n",
        "    def new_item(self):\n",
        "        if random.uniform(0, 1) < self.prob:\n",
        "            self.counter += 1.0\n",
        "            self.prob /= self.base\n",
        "\n",
        "    def get_result(self) -> int:\n",
        "        return (np.power(self.base, self.counter) - 1) / (self.base - 1)"
      ],
      "execution_count": null,
      "outputs": []
    },
    {
      "cell_type": "code",
      "metadata": {
        "id": "8xRet8RXwsYM"
      },
      "source": [
        "class MorrisB:\n",
        "    def __init__(self, s):\n",
        "        self.s = s\n",
        "        self.morris_a = [MorrisA() for _ in range(self.s)]\n",
        "\n",
        "    def new_item(self):\n",
        "        for m in self.morris_a:\n",
        "            m.new_item()\n",
        "\n",
        "    def get_result(self) -> (int, list):\n",
        "        result = 0\n",
        "        results =[]\n",
        "        for m in self.morris_a:\n",
        "            res = m.get_result()\n",
        "            result += res\n",
        "            results.append(res)\n",
        "\n",
        "        return int(result / self.s), results"
      ],
      "execution_count": null,
      "outputs": []
    },
    {
      "cell_type": "code",
      "metadata": {
        "id": "P6p3z__xvkhp"
      },
      "source": [
        "def simulation_morris(s: int):\n",
        "    start_time = time.time()\n",
        "\n",
        "    stream = generate_stream()\n",
        "\n",
        "    morris_b = MorrisB(s=s)\n",
        "    for i in stream:\n",
        "        morris_b.new_item()\n",
        "\n",
        "    result = morris_b.get_result()\n",
        "    real_result = len(stream)\n",
        "    print(\"Stream length:\", real_result)\n",
        "    print(\"Morris result:\", result[0], result[1])\n",
        "\n",
        "    print(\"\\nExpectation:\", np.round(np.mean(result[1]), 3))\n",
        "    print(\"Normalized Variance:\", np.round(np.var(result[1]) / real_result, 3))\n",
        "\n",
        "    deviation = np.round(a=np.abs(1 - (result[0] / real_result)) * 100, decimals=5)\n",
        "    print(f'\\nDeviation: {deviation}%')\n",
        "    print(time.time() - start_time)"
      ],
      "execution_count": null,
      "outputs": []
    },
    {
      "cell_type": "code",
      "metadata": {
        "colab": {
          "base_uri": "https://localhost:8080/"
        },
        "id": "2c6Xjxynk4G5",
        "outputId": "7ae8693f-0e84-440c-f40b-4c2584076069"
      },
      "source": [
        "simulation_morris(10)"
      ],
      "execution_count": null,
      "outputs": [
        {
          "output_type": "stream",
          "text": [
            "Stream length: 1000000\n",
            "Morris result: 1441791 [2097151.0, 1048575.0, 262143.0, 1048575.0, 2097151.0, 1048575.0, 524287.0, 1048575.0, 4194303.0, 1048575.0]\n",
            "\n",
            "Expectation: 1441791.0\n",
            "Normalized Variance: 1144179.288\n",
            "\n",
            "Deviation: 44.1791%\n",
            "4.363743543624878\n"
          ],
          "name": "stdout"
        }
      ]
    },
    {
      "cell_type": "markdown",
      "metadata": {
        "id": "41yBn96A50GC"
      },
      "source": [
        "\n",
        "---\n"
      ]
    },
    {
      "cell_type": "code",
      "metadata": {
        "colab": {
          "base_uri": "https://localhost:8080/"
        },
        "id": "TCDXlssvk7Pp",
        "outputId": "6cbdae51-b4b1-4c79-ff7c-fe70d630c8e1"
      },
      "source": [
        "simulation_morris(50)"
      ],
      "execution_count": null,
      "outputs": [
        {
          "output_type": "stream",
          "text": [
            "Stream length: 1000000\n",
            "Morris result: 1148189 [524287.0, 524287.0, 1048575.0, 524287.0, 1048575.0, 524287.0, 1048575.0, 1048575.0, 2097151.0, 1048575.0, 2097151.0, 2097151.0, 1048575.0, 1048575.0, 1048575.0, 524287.0, 2097151.0, 524287.0, 524287.0, 2097151.0, 2097151.0, 1048575.0, 524287.0, 524287.0, 2097151.0, 1048575.0, 524287.0, 524287.0, 2097151.0, 1048575.0, 524287.0, 4194303.0, 524287.0, 2097151.0, 1048575.0, 2097151.0, 524287.0, 2097151.0, 524287.0, 1048575.0, 524287.0, 1048575.0, 524287.0, 262143.0, 1048575.0, 2097151.0, 524287.0, 1048575.0, 1048575.0, 524287.0]\n",
            "\n",
            "Expectation: 1148189.72\n",
            "Normalized Variance: 568694.902\n",
            "\n",
            "Deviation: 14.8189%\n",
            "20.043036699295044\n"
          ],
          "name": "stdout"
        }
      ]
    },
    {
      "cell_type": "markdown",
      "metadata": {
        "id": "tB8NBNyN52wj"
      },
      "source": [
        "\n",
        "---\n"
      ]
    },
    {
      "cell_type": "code",
      "metadata": {
        "colab": {
          "base_uri": "https://localhost:8080/"
        },
        "id": "Goyv5Bukk_In",
        "outputId": "fba23b1b-704f-4aa1-8b70-62041b6bad5c"
      },
      "source": [
        "simulation_morris(100)"
      ],
      "execution_count": null,
      "outputs": [
        {
          "output_type": "stream",
          "text": [
            "Stream length: 1000000\n",
            "Morris result: 1006631 [1048575.0, 4194303.0, 1048575.0, 2097151.0, 1048575.0, 1048575.0, 524287.0, 1048575.0, 524287.0, 2097151.0, 524287.0, 1048575.0, 524287.0, 1048575.0, 524287.0, 1048575.0, 1048575.0, 262143.0, 2097151.0, 524287.0, 2097151.0, 2097151.0, 1048575.0, 262143.0, 1048575.0, 1048575.0, 2097151.0, 524287.0, 2097151.0, 524287.0, 1048575.0, 1048575.0, 1048575.0, 262143.0, 1048575.0, 2097151.0, 262143.0, 262143.0, 524287.0, 1048575.0, 262143.0, 1048575.0, 524287.0, 2097151.0, 1048575.0, 524287.0, 1048575.0, 524287.0, 524287.0, 262143.0, 1048575.0, 524287.0, 1048575.0, 524287.0, 1048575.0, 524287.0, 262143.0, 262143.0, 2097151.0, 2097151.0, 1048575.0, 2097151.0, 1048575.0, 1048575.0, 524287.0, 1048575.0, 524287.0, 2097151.0, 1048575.0, 1048575.0, 524287.0, 2097151.0, 2097151.0, 1048575.0, 1048575.0, 524287.0, 262143.0, 2097151.0, 1048575.0, 524287.0, 1048575.0, 1048575.0, 1048575.0, 524287.0, 524287.0, 1048575.0, 1048575.0, 262143.0, 1048575.0, 1048575.0, 524287.0, 1048575.0, 524287.0, 524287.0, 1048575.0, 524287.0, 524287.0, 262143.0, 1048575.0, 1048575.0]\n",
            "\n",
            "Expectation: 1006631.96\n",
            "Normalized Variance: 424301.537\n",
            "\n",
            "Deviation: 0.6631%\n",
            "39.941099882125854\n"
          ],
          "name": "stdout"
        }
      ]
    },
    {
      "cell_type": "code",
      "metadata": {
        "id": "KldhKf17wjLk"
      },
      "source": [
        "# endregion"
      ],
      "execution_count": null,
      "outputs": []
    },
    {
      "cell_type": "markdown",
      "metadata": {
        "id": "9injU7Gc7HZ6"
      },
      "source": [
        "\n",
        "---"
      ]
    },
    {
      "cell_type": "markdown",
      "metadata": {
        "id": "-6ZTr9J69zxC"
      },
      "source": [
        "### Graphs"
      ]
    },
    {
      "cell_type": "code",
      "metadata": {
        "colab": {
          "base_uri": "https://localhost:8080/",
          "height": 295
        },
        "id": "NZB-Eedj7HF8",
        "outputId": "f72b44fc-7559-472a-f060-581e8b48b067"
      },
      "source": [
        "alphas = [10, 50, 100]\n",
        "xticks = np.arange(len(alphas))\n",
        "deviation = [44.1791, 14.8189, 0.6631]\n",
        "precision = 100 - np.array(deviation)\n",
        "\n",
        "plt.bar(xticks, precision, align='center', alpha=0.57)\n",
        "plt.xticks(xticks, alphas)\n",
        "\n",
        "plt.xlabel(\"Alpha estimators count\")\n",
        "plt.ylabel('Precision')\n",
        "plt.title('Precision (100 - Deviation)')\n",
        "\n",
        "plt.show()"
      ],
      "execution_count": null,
      "outputs": [
        {
          "output_type": "display_data",
          "data": {
            "image/png": "[encoded data removed]",
            "text/plain": [
              "<Figure size 432x288 with 1 Axes>"
            ]
          },
          "metadata": {
            "tags": [],
            "needs_background": "light"
          }
        }
      ]
    },
    {
      "cell_type": "code",
      "metadata": {
        "colab": {
          "base_uri": "https://localhost:8080/",
          "height": 295
        },
        "id": "sxfdWCj89MEb",
        "outputId": "bb1f3620-9e70-417e-d556-097ce755198e"
      },
      "source": [
        "alphas = [10, 50, 100]\n",
        "xticks = np.arange(len(alphas))\n",
        "means = [1441791.0, 1148189.72, 1006631.96]\n",
        "\n",
        "plt.bar(xticks, means, align='center', alpha=0.57)\n",
        "plt.xticks(xticks, alphas)\n",
        "\n",
        "plt.xlabel(\"Alpha estimators count\")\n",
        "plt.ylabel('Expactation')\n",
        "plt.title('Expactation')\n",
        "\n",
        "plt.show()"
      ],
      "execution_count": null,
      "outputs": [
        {
          "output_type": "display_data",
          "data": {
            "image/png": "[encoded data removed]",
            "text/plain": [
              "<Figure size 432x288 with 1 Axes>"
            ]
          },
          "metadata": {
            "tags": [],
            "needs_background": "light"
          }
        }
      ]
    },
    {
      "cell_type": "code",
      "metadata": {
        "colab": {
          "base_uri": "https://localhost:8080/",
          "height": 295
        },
        "id": "6WWTOrv99faS",
        "outputId": "f36c2b36-b686-460e-eea2-ab37c13f32ab"
      },
      "source": [
        "alphas = [10, 50, 100]\n",
        "xticks = np.arange(len(alphas))\n",
        "norm_vars = [1144179.288, 568694.902, 424301.537]\n",
        "\n",
        "plt.bar(xticks, norm_vars, align='center', alpha=0.57)\n",
        "plt.xticks(xticks, alphas)\n",
        "\n",
        "plt.xlabel(\"Alpha estimators count\")\n",
        "plt.ylabel('Normalized Variance')\n",
        "plt.title('Normalized Variance')\n",
        "\n",
        "plt.show()"
      ],
      "execution_count": null,
      "outputs": [
        {
          "output_type": "display_data",
          "data": {
            "image/png": "[encoded data removed]",
            "text/plain": [
              "<Figure size 432x288 with 1 Axes>"
            ]
          },
          "metadata": {
            "tags": [],
            "needs_background": "light"
          }
        }
      ]
    },
    {
      "cell_type": "markdown",
      "metadata": {
        "id": "tyki_1b21ymB"
      },
      "source": [
        "## Flajolet Martin"
      ]
    },
    {
      "cell_type": "code",
      "metadata": {
        "id": "4oq2NQiIwbGd"
      },
      "source": [
        "# region Flajolet Martin"
      ],
      "execution_count": null,
      "outputs": []
    },
    {
      "cell_type": "code",
      "metadata": {
        "id": "lOZo8boXwdTs"
      },
      "source": [
        "class FlajoletMartinA:\n",
        "    def __init__(self, offset: int):\n",
        "        self.offset = offset\n",
        "        self.x = 1.0\n",
        "        self.MAX = MAX / 5.5\n",
        "        # Need to be 2^32\n",
        "\n",
        "    def set_offset(self, offset: int):\n",
        "        self.offset = offset\n",
        "\n",
        "    def _hash(self, item: str) -> float:\n",
        "        return np.abs(mmh3.hash(key=item, seed=self.offset) / self.MAX)\n",
        "\n",
        "    def new_item(self, item):\n",
        "        self.x = min(self._hash(item), self.x)\n",
        "\n",
        "    def get_result(self) -> int:\n",
        "        return int(1.0 / self.x)"
      ],
      "execution_count": null,
      "outputs": []
    },
    {
      "cell_type": "code",
      "metadata": {
        "id": "O0Vpua5iwdnr"
      },
      "source": [
        "class FlajoletMartinB:\n",
        "    def __init__(self, s: int):\n",
        "        self.s = s\n",
        "        self.fm_a = [FlajoletMartinA(offset=_) for _ in range(self.s)]\n",
        "\n",
        "    def get_fm_a(self):\n",
        "        return self.fm_a\n",
        "\n",
        "    def new_item(self, item):\n",
        "        for _ in self.fm_a:\n",
        "            _.new_item(item=item)\n",
        "\n",
        "    def get_result(self) -> (int, list):\n",
        "        res = 0.0\n",
        "        arr = []\n",
        "        for fm in self.fm_a:\n",
        "            res += fm.get_result()\n",
        "            arr.append(fm.get_result())\n",
        "\n",
        "        return int(res / self.s) - 1, arr"
      ],
      "execution_count": null,
      "outputs": []
    },
    {
      "cell_type": "code",
      "metadata": {
        "id": "3640KISZwdMA"
      },
      "source": [
        "class FlajoletMartinFinalVersion:\n",
        "    def __init__(self, s: int, s_a: int):\n",
        "        self.s = s\n",
        "        self.fm_b = [FlajoletMartinB(s=s_a) for _ in range(self.s)]\n",
        "\n",
        "        offset = 0\n",
        "        for fm_b in self.fm_b:\n",
        "            fms = fm_b.get_fm_a()\n",
        "            for _ in fms:\n",
        "                _.set_offset(offset=offset)\n",
        "                offset += 1\n",
        "\n",
        "    def new_item(self, item):\n",
        "        for _ in self.fm_b:\n",
        "            _.new_item(item=item)\n",
        "\n",
        "    def get_result(self) -> (int, list):\n",
        "        res = []\n",
        "        for _ in self.fm_b:\n",
        "            res.append(_.get_result()[0])\n",
        "\n",
        "        return np.median(res) - 1, res"
      ],
      "execution_count": null,
      "outputs": []
    },
    {
      "cell_type": "code",
      "metadata": {
        "id": "5PA8ZhsC8qw0"
      },
      "source": [
        "def simulation_fm_b(fm_b_a: int):\n",
        "    start_time = time.time()\n",
        "\n",
        "    stream = generate_stream()\n",
        "\n",
        "    fm_b = FlajoletMartinB(s=fm_b_a)\n",
        "\n",
        "    for item in stream:\n",
        "        fm_b.new_item(item=item)\n",
        "\n",
        "    result = fm_b.get_result()\n",
        "    real_result = len(np.unique(stream))\n",
        "    print(\"Uniques:\", real_result)\n",
        "    print(\"FM result:\", result)\n",
        "    print(\"FM final result:\", result[0])\n",
        "\n",
        "    deviation = np.round(np.abs(1 - ((result[0] * 1.0) / (real_result * 1.0))) * 100, 3)\n",
        "    print(f'Deviation: {deviation}%')\n",
        "    # print(time.time() - start_time)"
      ],
      "execution_count": null,
      "outputs": []
    },
    {
      "cell_type": "code",
      "metadata": {
        "id": "94PApxEcvoYl"
      },
      "source": [
        "def simulation_fm_fv(fm_b_n: int, fm_a_n: int):\n",
        "    start_time = time.time()\n",
        "\n",
        "    stream = generate_stream()\n",
        "\n",
        "    fm_fv = FlajoletMartinFinalVersion(s=fm_b_n, s_a=fm_a_n)\n",
        "\n",
        "    ll = len(stream)\n",
        "    for item in range(len(stream)):\n",
        "        fm_fv.new_item(item=stream[item])\n",
        "\n",
        "    result = fm_fv.get_result()\n",
        "    real_result = len(np.unique(stream))\n",
        "    print(\"Uniques:\", real_result)\n",
        "    print(\"FM result:\", result)\n",
        "    print(\"FM final result:\", result[0])\n",
        "\n",
        "    deviation = np.round(np.abs(1 - ((result[0] * 1.0) / (real_result * 1.0))) * 100, 3)\n",
        "    print(f'Deviation: {deviation}%')\n",
        "    # print(time.time() - start_time)"
      ],
      "execution_count": null,
      "outputs": []
    },
    {
      "cell_type": "code",
      "metadata": {
        "id": "zrUiw5nq3s1K"
      },
      "source": [
        "def exp_norm_var(arr, real_result):\n",
        "    print(\"\\nExpectation:\", np.round(np.mean(arr), 3))\n",
        "    print(\"Normalized Variance:\", np.round(np.var(arr) / real_result, 3))"
      ],
      "execution_count": null,
      "outputs": []
    },
    {
      "cell_type": "code",
      "metadata": {
        "colab": {
          "base_uri": "https://localhost:8080/"
        },
        "id": "xcqzKTrT6tD8",
        "outputId": "6b7d1ac1-50e2-45ee-d63b-8c955d5d0079"
      },
      "source": [
        "simulation_fm_b(fm_b_a=10)"
      ],
      "execution_count": null,
      "outputs": [
        {
          "output_type": "stream",
          "text": [
            "Uniques: 631815\n",
            "FM result: (1030182, [1271455, 153887, 138107, 274028, 246533, 57328, 53586, 7905138, 112164, 89609])\n",
            "FM final result: 1030182\n",
            "Deviation: 63.051%\n"
          ],
          "name": "stdout"
        }
      ]
    },
    {
      "cell_type": "code",
      "metadata": {
        "colab": {
          "base_uri": "https://localhost:8080/"
        },
        "id": "JxyO69X03jNL",
        "outputId": "58440367-4a52-42c7-de27-54702aaf1ff8"
      },
      "source": [
        "results = np.array([1271455, 153887, 138107, 274028, 246533, 57328, 53586, 7905138, 112164, 89609])\n",
        "exp_norm_var(results, 1030182)"
      ],
      "execution_count": null,
      "outputs": [
        {
          "output_type": "stream",
          "text": [
            "\n",
            "Expectation: 1030183.5\n",
            "Normalized Variance: 5212711.666\n"
          ],
          "name": "stdout"
        }
      ]
    },
    {
      "cell_type": "markdown",
      "metadata": {
        "id": "110hCr8s4G5z"
      },
      "source": [
        "\n",
        "---"
      ]
    },
    {
      "cell_type": "code",
      "metadata": {
        "colab": {
          "base_uri": "https://localhost:8080/"
        },
        "id": "6NNKYpH19FyU",
        "outputId": "d8c7376c-d998-488d-94dc-4a8c4ba824a2"
      },
      "source": [
        "simulation_fm_b(fm_b_a=50)"
      ],
      "execution_count": null,
      "outputs": [
        {
          "output_type": "stream",
          "text": [
            "Uniques: 631815\n",
            "FM result: (993680, [1271455, 153887, 138107, 274028, 246533, 57328, 53586, 7905138, 112164, 89609, 344679, 25974025, 52854, 379182, 79137, 743632, 212652, 584624, 560302, 102231, 256262, 625880, 549299, 149891, 321233, 60135, 65027, 96814, 603045, 298552, 168194, 275900, 29160, 92717, 69053, 168976, 727272, 64144, 837871, 624804, 154804, 174405, 104553, 56951, 194042, 331785, 63406, 69316, 110192, 3005259])\n",
            "FM final result: 993680\n",
            "Deviation: 57.274%\n"
          ],
          "name": "stdout"
        }
      ]
    },
    {
      "cell_type": "code",
      "metadata": {
        "colab": {
          "base_uri": "https://localhost:8080/"
        },
        "id": "s5sUkWM74Tjq",
        "outputId": "d0e30c9e-13af-4bc5-a864-0ca946d987a1"
      },
      "source": [
        "results = np.array([1271455, 153887, 138107, 274028, 246533, 57328, 53586, 7905138, 112164, 89609, 344679, 25974025, 52854, 379182, 79137, 743632, 212652, 584624, 560302, 102231, 256262, 625880, 549299, 149891, 321233, 60135, 65027, 96814, 603045, 298552, 168194, 275900, 29160, 92717, 69053, 168976, 727272, 64144, 837871, 624804, 154804, 174405, 104553, 56951, 194042, 331785, 63406, 69316, 110192, 3005259])\n",
        "exp_norm_var(results, 993680)"
      ],
      "execution_count": null,
      "outputs": [
        {
          "output_type": "stream",
          "text": [
            "\n",
            "Expectation: 993681.9\n",
            "Normalized Variance: 14159996.59\n"
          ],
          "name": "stdout"
        }
      ]
    },
    {
      "cell_type": "markdown",
      "metadata": {
        "id": "yccyP8bo4NHK"
      },
      "source": [
        "\n",
        "---"
      ]
    },
    {
      "cell_type": "code",
      "metadata": {
        "colab": {
          "base_uri": "https://localhost:8080/"
        },
        "id": "MFPXezG_6ppU",
        "outputId": "192b44fd-e032-4fc4-a905-335cf2c4dceb"
      },
      "source": [
        "simulation_fm_b(fm_b_a=100)"
      ],
      "execution_count": null,
      "outputs": [
        {
          "output_type": "stream",
          "text": [
            "Uniques: 631815\n",
            "FM result: (645779, [1271455, 153887, 138107, 274028, 246533, 57328, 53586, 7905138, 112164, 89609, 344679, 25974025, 52854, 379182, 79137, 743632, 212652, 584624, 560302, 102231, 256262, 625880, 549299, 149891, 321233, 60135, 65027, 96814, 603045, 298552, 168194, 275900, 29160, 92717, 69053, 168976, 727272, 64144, 837871, 624804, 154804, 174405, 104553, 56951, 194042, 331785, 63406, 69316, 110192, 3005259, 116624, 1241079, 67128, 100175, 307125, 328785, 77320, 384393, 81060, 460882, 507872, 142938, 112372, 44194, 306349, 71624, 159559, 3162055, 427807, 57784, 182731, 73536, 335457, 49521, 119068, 351000, 113388, 230441, 693962, 241458, 203262, 44854, 37886, 267576, 40475, 161759, 1180637, 170162, 139645, 57103, 115881, 77833, 52457, 110293, 120449, 94011, 218400, 725821, 35713, 492065])\n",
            "FM final result: 645779\n",
            "Deviation: 2.21%\n"
          ],
          "name": "stdout"
        }
      ]
    },
    {
      "cell_type": "code",
      "metadata": {
        "colab": {
          "base_uri": "https://localhost:8080/"
        },
        "id": "3b6x5bAP4cYa",
        "outputId": "61f58142-fe88-4c00-f58b-45761aec0186"
      },
      "source": [
        "results = np.array([1271455, 153887, 138107, 274028, 246533, 57328, 53586, 7905138, 112164, 89609, 344679, 25974025, 52854, 379182, 79137, 743632, 212652, 584624, 560302, 102231, 256262, 625880, 549299, 149891, 321233, 60135, 65027, 96814, 603045, 298552, 168194, 275900, 29160, 92717, 69053, 168976, 727272, 64144, 837871, 624804, 154804, 174405, 104553, 56951, 194042, 331785, 63406, 69316, 110192, 3005259, 116624, 1241079, 67128, 100175, 307125, 328785, 77320, 384393, 81060, 460882, 507872, 142938, 112372, 44194, 306349, 71624, 159559, 3162055, 427807, 57784, 182731, 73536, 335457, 49521, 119068, 351000, 113388, 230441, 693962, 241458, 203262, 44854, 37886, 267576, 40475, 161759, 1180637, 170162, 139645, 57103, 115881, 77833, 52457, 110293, 120449, 94011, 218400, 725821, 35713, 492065])\n",
        "exp_norm_var(results, 645779)"
      ],
      "execution_count": null,
      "outputs": [
        {
          "output_type": "stream",
          "text": [
            "\n",
            "Expectation: 645780.64\n",
            "Normalized Variance: 11262375.323\n"
          ],
          "name": "stdout"
        }
      ]
    },
    {
      "cell_type": "markdown",
      "metadata": {
        "id": "_3z5GpyG4Qvk"
      },
      "source": [
        "\n",
        "---"
      ]
    },
    {
      "cell_type": "code",
      "metadata": {
        "colab": {
          "base_uri": "https://localhost:8080/"
        },
        "id": "HC1T0pQ0vwoU",
        "outputId": "33199d88-2aeb-4a2c-ee7d-514eeeab3223"
      },
      "source": [
        "simulation_fm_fv(fm_b_n=10, fm_a_n=10)"
      ],
      "execution_count": null,
      "outputs": [
        {
          "output_type": "stream",
          "text": [
            "Uniques: 631815\n",
            "FM result: (311131.0, [1030182, 2903330, 302612, 305808, 426470, 316456, 499254, 239055, 230334, 204291])\n",
            "FM final result: 311131.0\n",
            "Deviation: 50.756%\n"
          ],
          "name": "stdout"
        }
      ]
    },
    {
      "cell_type": "code",
      "metadata": {
        "colab": {
          "base_uri": "https://localhost:8080/"
        },
        "id": "G9ZHzlci4tkS",
        "outputId": "24a3b47c-18c4-4b50-ed1a-1011efa1537e"
      },
      "source": [
        "results = np.array([1030182, 2903330, 302612, 305808, 426470, 316456, 499254, 239055, 230334, 204291])\n",
        "exp_norm_var(results, 311131.0)"
      ],
      "execution_count": null,
      "outputs": [
        {
          "output_type": "stream",
          "text": [
            "\n",
            "Expectation: 645779.2\n",
            "Normalized Variance: 1989064.516\n"
          ],
          "name": "stdout"
        }
      ]
    },
    {
      "cell_type": "markdown",
      "metadata": {
        "id": "iBnNOA5C4QB3"
      },
      "source": [
        "\n",
        "---"
      ]
    },
    {
      "cell_type": "code",
      "metadata": {
        "colab": {
          "base_uri": "https://localhost:8080/"
        },
        "id": "eoM8Oy7zPbks",
        "outputId": "ae3f8c8f-c9de-4ff3-d8a3-e2010e8acac3"
      },
      "source": [
        "simulation_fm_fv(fm_b_n=10, fm_a_n=50)"
      ],
      "execution_count": null,
      "outputs": [
        {
          "output_type": "stream",
          "text": [
            "Uniques: 631815\n",
            "FM result: (503119.0, [993680, 297878, 402539, 1098061, 267597, 461097, 529536, 616960, 476704, 751355])\n",
            "FM final result: 503119.0\n",
            "Deviation: 20.369%\n"
          ],
          "name": "stdout"
        }
      ]
    },
    {
      "cell_type": "code",
      "metadata": {
        "colab": {
          "base_uri": "https://localhost:8080/"
        },
        "id": "vNXtXaII4wPa",
        "outputId": "0e718b1c-9962-46c0-a120-543a4453a917"
      },
      "source": [
        "results = np.array([993680, 297878, 402539, 1098061, 267597, 461097, 529536, 616960, 476704, 751355])\n",
        "exp_norm_var(results, 503119.0)"
      ],
      "execution_count": null,
      "outputs": [
        {
          "output_type": "stream",
          "text": [
            "\n",
            "Expectation: 589540.7\n",
            "Normalized Variance: 140199.861\n"
          ],
          "name": "stdout"
        }
      ]
    },
    {
      "cell_type": "markdown",
      "metadata": {
        "id": "W94SmjZa4PlT"
      },
      "source": [
        "\n",
        "---"
      ]
    },
    {
      "cell_type": "code",
      "metadata": {
        "colab": {
          "base_uri": "https://localhost:8080/"
        },
        "id": "mzpdEZKiPeOk",
        "outputId": "c28765ae-5136-47c5-faf2-bfbe3de885b0"
      },
      "source": [
        "simulation_fm_fv(fm_b_n=10, fm_a_n=100)"
      ],
      "execution_count": null,
      "outputs": [
        {
          "output_type": "stream",
          "text": [
            "Uniques: 631815\n",
            "FM result: (615499.0, [645779, 750300, 364347, 573248, 614029, 485254, 856785, 616971, 504353, 942088])\n",
            "FM final result: 615499.0\n",
            "Deviation: 2.582%\n"
          ],
          "name": "stdout"
        }
      ]
    },
    {
      "cell_type": "code",
      "metadata": {
        "colab": {
          "base_uri": "https://localhost:8080/"
        },
        "id": "ZHKlv9a04wvy",
        "outputId": "154c7c24-f31a-486e-95eb-f623dd805c95"
      },
      "source": [
        "results = np.array([645779, 750300, 364347, 573248, 614029, 485254, 856785, 616971, 504353, 942088])\n",
        "exp_norm_var(results, 615499.0)"
      ],
      "execution_count": null,
      "outputs": [
        {
          "output_type": "stream",
          "text": [
            "\n",
            "Expectation: 635315.4\n",
            "Normalized Variance: 44553.215\n"
          ],
          "name": "stdout"
        }
      ]
    },
    {
      "cell_type": "markdown",
      "metadata": {
        "id": "phjaq1Ap4PHD"
      },
      "source": [
        "\n",
        "---"
      ]
    },
    {
      "cell_type": "code",
      "metadata": {
        "colab": {
          "base_uri": "https://localhost:8080/"
        },
        "id": "ipQQgZ6hvvAk",
        "outputId": "9096acc3-859f-4873-f540-cd928adc5c40"
      },
      "source": [
        "simulation_fm_fv(fm_b_n=50, fm_a_n=10)"
      ],
      "execution_count": null,
      "outputs": [
        {
          "output_type": "stream",
          "text": [
            "Uniques: 631815\n",
            "FM result: (430428.5, [1030182, 2903330, 302612, 305808, 426470, 316456, 499254, 239055, 230334, 204291, 317267, 304483, 490128, 674193, 226625, 3283759, 533262, 891606, 144772, 636908, 294897, 187844, 298221, 275393, 281631, 802859, 269088, 431395, 591028, 211117, 441366, 602244, 270294, 1028941, 304835, 592734, 343471, 719795, 999336, 429464, 750295, 174900, 137917, 686724, 633686, 865753, 358705, 592753, 658868, 1280694])\n",
            "FM final result: 430428.5\n",
            "Deviation: 31.874%\n"
          ],
          "name": "stdout"
        }
      ]
    },
    {
      "cell_type": "code",
      "metadata": {
        "colab": {
          "base_uri": "https://localhost:8080/"
        },
        "id": "ChrqwVgY4xnj",
        "outputId": "eb820822-d21b-4100-e2eb-2ce069114ded"
      },
      "source": [
        "results = np.array([1030182, 2903330, 302612, 305808, 426470, 316456, 499254, 239055, 230334, 204291, 317267, 304483, 490128, 674193, 226625, 3283759, 533262, 891606, 144772, 636908, 294897, 187844, 298221, 275393, 281631, 802859, 269088, 431395, 591028, 211117, 441366, 602244, 270294, 1028941, 304835, 592734, 343471, 719795, 999336, 429464, 750295, 174900, 137917, 686724, 633686, 865753, 358705, 592753, 658868, 1280694])\n",
        "exp_norm_var(results, 430428.5)"
      ],
      "execution_count": null,
      "outputs": [
        {
          "output_type": "stream",
          "text": [
            "\n",
            "Expectation: 589540.86\n",
            "Normalized Variance: 772024.682\n"
          ],
          "name": "stdout"
        }
      ]
    },
    {
      "cell_type": "markdown",
      "metadata": {
        "id": "Xp15OqOy4OsK"
      },
      "source": [
        "\n",
        "---"
      ]
    },
    {
      "cell_type": "code",
      "metadata": {
        "colab": {
          "base_uri": "https://localhost:8080/"
        },
        "id": "QwrhEekixyvq",
        "outputId": "4fab6192-8781-4c9c-9343-7e8b4d9116f0"
      },
      "source": [
        "simulation_fm_fv(fm_b_n=50, fm_a_n=50)"
      ],
      "execution_count": null,
      "outputs": [
        {
          "output_type": "stream",
          "text": [
            "Uniques: 631815\n",
            "FM result: (582977.5, [993680, 297878, 402539, 1098061, 267597, 461097, 529536, 616960, 476704, 751355, 705378, 265130, 1283887, 429683, 464951, 768991, 393454, 615251, 391968, 1492207, 229565, 682703, 283856, 247919, 577090, 647451, 588867, 260066, 535367, 574626, 934118, 940783, 1508560, 3103660, 1084121, 411451, 1148087, 608931, 223505, 1286578, 1318395, 295213, 465066, 1819480, 788402, 917242, 862922, 421473, 292313, 310574])\n",
            "FM final result: 582977.5\n",
            "Deviation: 7.73%\n"
          ],
          "name": "stdout"
        }
      ]
    },
    {
      "cell_type": "code",
      "metadata": {
        "colab": {
          "base_uri": "https://localhost:8080/"
        },
        "id": "OWkVsmq_4yXy",
        "outputId": "cf654d48-06fb-49cc-916b-8e1605f906d1"
      },
      "source": [
        "results = np.array([993680, 297878, 402539, 1098061, 267597, 461097, 529536, 616960, 476704, 751355, 705378, 265130, 1283887, 429683, 464951, 768991, 393454, 615251, 391968, 1492207, 229565, 682703, 283856, 247919, 577090, 647451, 588867, 260066, 535367, 574626, 934118, 940783, 1508560, 3103660, 1084121, 411451, 1148087, 608931, 223505, 1286578, 1318395, 295213, 465066, 1819480, 788402, 917242, 862922, 421473, 292313, 310574])\n",
        "exp_norm_var(results, 582977.5)"
      ],
      "execution_count": null,
      "outputs": [
        {
          "output_type": "stream",
          "text": [
            "\n",
            "Expectation: 721493.82\n",
            "Normalized Variance: 447483.23\n"
          ],
          "name": "stdout"
        }
      ]
    },
    {
      "cell_type": "markdown",
      "metadata": {
        "id": "VeCcl4yA4ORS"
      },
      "source": [
        "\n",
        "---"
      ]
    },
    {
      "cell_type": "code",
      "metadata": {
        "colab": {
          "base_uri": "https://localhost:8080/"
        },
        "id": "Kf2MYtUYPrtD",
        "outputId": "4dd9f4d7-f7e6-49c4-f349-e5617dbec4fb"
      },
      "source": [
        "simulation_fm_fv(fm_b_n=50, fm_a_n=100)"
      ],
      "execution_count": null,
      "outputs": [
        {
          "output_type": "stream",
          "text": [
            "Uniques: 631815\n",
            "FM result: (634438.5, [645779, 750300, 364347, 573248, 614029, 485254, 856785, 616971, 504353, 942088, 456134, 265887, 612270, 424466, 554996, 937450, 2306110, 747786, 878509, 755042, 806804, 1142273, 852822, 642197, 301443, 382023, 562563, 840353, 1930655, 1223496, 642668, 674528, 438738, 513408, 393908, 4045342, 776624, 431408, 670881, 626682, 493191, 624689, 856243, 355187, 362456, 564134, 720679, 642344, 4265100, 428185])\n",
            "FM final result: 634438.5\n",
            "Deviation: 0.415%\n"
          ],
          "name": "stdout"
        }
      ]
    },
    {
      "cell_type": "code",
      "metadata": {
        "colab": {
          "base_uri": "https://localhost:8080/"
        },
        "id": "x0-NegH84zAz",
        "outputId": "25338bfc-8b7f-4f0e-bc0f-b2867e68afd8"
      },
      "source": [
        "results = np.array([645779, 750300, 364347, 573248, 614029, 485254, 856785, 616971, 504353, 942088, 456134, 265887, 612270, 424466, 554996, 937450, 2306110, 747786, 878509, 755042, 806804, 1142273, 852822, 642197, 301443, 382023, 562563, 840353, 1930655, 1223496, 642668, 674528, 438738, 513408, 393908, 4045342, 776624, 431408, 670881, 626682, 493191, 624689, 856243, 355187, 362456, 564134, 720679, 642344, 4265100, 428185])\n",
        "exp_norm_var(results, 634438.5)"
      ],
      "execution_count": null,
      "outputs": [
        {
          "output_type": "stream",
          "text": [
            "\n",
            "Expectation: 830056.56\n",
            "Normalized Variance: 926956.049\n"
          ],
          "name": "stdout"
        }
      ]
    },
    {
      "cell_type": "markdown",
      "metadata": {
        "id": "M6GK1Gfc-s-C"
      },
      "source": [
        "### Graphs"
      ]
    },
    {
      "cell_type": "code",
      "metadata": {
        "colab": {
          "base_uri": "https://localhost:8080/",
          "height": 295
        },
        "id": "ioiPeYLk-wPE",
        "outputId": "b3024755-25fc-43d2-bd2d-a7b76b41aab2"
      },
      "source": [
        "alphas = [10, 50, 100, 100, 500 ,500, 1000, 2500, 5000]\n",
        "xticks = np.arange(len(alphas))\n",
        "deviation = [63.051,57.274,2.21,50.756,20.369,31.874, 2.582,7.73,0.415]\n",
        "precision = 100 - np.array(deviation)\n",
        "\n",
        "plt.bar(xticks, precision, align='center', alpha=0.57)\n",
        "plt.xticks(xticks, alphas)\n",
        "\n",
        "plt.xlabel(\"Alpha estimators count\")\n",
        "plt.ylabel('Precision')\n",
        "plt.title('Precision (100 - Deviation)')\n",
        "\n",
        "plt.show()"
      ],
      "execution_count": null,
      "outputs": [
        {
          "output_type": "display_data",
          "data": {
            "image/png": "[encoded data removed]",
            "text/plain": [
              "<Figure size 432x288 with 1 Axes>"
            ]
          },
          "metadata": {
            "tags": [],
            "needs_background": "light"
          }
        }
      ]
    },
    {
      "cell_type": "code",
      "metadata": {
        "colab": {
          "base_uri": "https://localhost:8080/",
          "height": 295
        },
        "id": "59HSLbOW_klD",
        "outputId": "998c3745-691f-4784-9b9f-e368c498f125"
      },
      "source": [
        "alphas = [10, 50, 100, 100, 500 ,500, 1000, 2500, 5000]\n",
        "xticks = np.arange(len(alphas))\n",
        "means = [1030183.5,993681.9,645780.64,645779.2,589540.7,589540.86, 635315.4,721493.82,830056.56]\n",
        "\n",
        "plt.bar(xticks, means, align='center', alpha=0.57)\n",
        "plt.xticks(xticks, alphas)\n",
        "\n",
        "plt.xlabel(\"Alpha estimators count\")\n",
        "plt.ylabel('Expactation')\n",
        "plt.title('Expactation')\n",
        "\n",
        "plt.show()"
      ],
      "execution_count": null,
      "outputs": [
        {
          "output_type": "display_data",
          "data": {
            "image/png": "[encoded data removed]",
            "text/plain": [
              "<Figure size 432x288 with 1 Axes>"
            ]
          },
          "metadata": {
            "tags": [],
            "needs_background": "light"
          }
        }
      ]
    },
    {
      "cell_type": "code",
      "metadata": {
        "colab": {
          "base_uri": "https://localhost:8080/",
          "height": 295
        },
        "id": "e-iMsMNY_zHh",
        "outputId": "a05fd104-2432-412f-e0c6-f4421c5a4467"
      },
      "source": [
        "alphas = [10, 50, 100, 100, 500 ,500, 1000, 2500, 5000]\n",
        "xticks = np.arange(len(alphas))\n",
        "norm_vars = [5212711.666,14159996.59,11262375.323,1989064.516,140199.861,772024.682,44553.215,447483.23,926956.049]\n",
        "\n",
        "plt.bar(xticks, norm_vars, align='center', alpha=0.57)\n",
        "plt.xticks(xticks, alphas)\n",
        "\n",
        "plt.xlabel(\"Alpha estimators count\")\n",
        "plt.ylabel('Normalized Variance')\n",
        "plt.title('Normalized Variance')\n",
        "\n",
        "plt.show()"
      ],
      "execution_count": null,
      "outputs": [
        {
          "output_type": "display_data",
          "data": {
            "image/png": "[encoded data removed]",
            "text/plain": [
              "<Figure size 432x288 with 1 Axes>"
            ]
          },
          "metadata": {
            "tags": [],
            "needs_background": "light"
          }
        }
      ]
    },
    {
      "cell_type": "markdown",
      "metadata": {
        "id": "YAPPhBEQYlxY"
      },
      "source": [
        "## Analysis"
      ]
    },
    {
      "cell_type": "markdown",
      "metadata": {
        "id": "P-I3sgl1jV1f"
      },
      "source": [
        "Graphs exists under each algorithm"
      ]
    },
    {
      "cell_type": "markdown",
      "metadata": {
        "id": "mONLD0wxiX2d"
      },
      "source": [
        "### Alpha estimators"
      ]
    },
    {
      "cell_type": "markdown",
      "metadata": {
        "id": "x4m9QbrLZLOH"
      },
      "source": [
        "$s=\\frac{1}{\\delta\\epsilon^2} \\rightarrow \\epsilon=\\sqrt{\\frac{1}{s\\delta}}$\n",
        "\n",
        "In our cases:\n",
        "\n",
        ">s=10: $\\epsilon=\\sqrt{\\frac{1}{10\\times0.01}} = \\sqrt{10}=3.162\\sim$\n",
        "\n",
        ">s=50: $\\epsilon=\\sqrt{\\frac{1}{50\\times0.01}} = \\sqrt{2}=1.414\\sim$\n",
        "\n",
        ">s=100: $\\epsilon=\\sqrt{\\frac{1}{100\\times0.01}} = 1$\n",
        "\n",
        ">s=250: $\\epsilon=\\sqrt{\\frac{1}{250\\times0.01}} = \\frac{\\sqrt{10}}{5}=0.632\\sim$\n",
        "\n",
        ">s=500: $\\epsilon=\\sqrt{\\frac{1}{250\\times0.01}} = \\frac{\\sqrt{5}}{5}=0.447\\sim$\n",
        "\n",
        ">s=1000: $\\epsilon=\\sqrt{\\frac{1}{100\\times0.01}} = \\frac{\\sqrt{10}}{10} = 0.316\\sim$\n",
        "\n",
        ">s=2500: $\\epsilon=\\sqrt{\\frac{1}{250\\times0.01}} = \\frac{1}{5}$\n",
        "\n",
        "\n",
        ">s=5000: $\\epsilon=\\sqrt{\\frac{1}{250\\times0.01}} = \\frac{\\sqrt{2}}{10}=0.141\\sim$\n"
      ]
    },
    {
      "cell_type": "markdown",
      "metadata": {
        "id": "rqRsES7EoFI5"
      },
      "source": [
        "### Space"
      ]
    },
    {
      "cell_type": "markdown",
      "metadata": {
        "id": "70Ag1GIzoJOJ"
      },
      "source": [
        "#### Morris"
      ]
    },
    {
      "cell_type": "markdown",
      "metadata": {
        "id": "n0_zzOKwpDmy"
      },
      "source": [
        "Alpha version - $log({log{(n)}})$"
      ]
    },
    {
      "cell_type": "markdown",
      "metadata": {
        "id": "znPW7oIW07GZ"
      },
      "source": [
        "Beta version - $s\\times log({log{(n)}})$ where $s$ is the number of alphas copies"
      ]
    },
    {
      "cell_type": "code",
      "metadata": {
        "id": "IszblQHl2mm3"
      },
      "source": [
        "def plot_morris_space(n, s):\r\n",
        "    x = [i for i in range(2, n+1, 1)]\r\n",
        "    y = [s * np.math.log2(np.math.log2(i)) for i in x]\r\n",
        "    plt.plot(x, y)\r\n",
        "    plt.title(f'N - {n}\\nCopies - {s}')\r\n",
        "    plt.show()"
      ],
      "execution_count": null,
      "outputs": []
    },
    {
      "cell_type": "code",
      "metadata": {
        "id": "XYpenIoaoKhJ",
        "colab": {
          "base_uri": "https://localhost:8080/",
          "height": 1000
        },
        "outputId": "e10e4d97-8f7f-4007-f3d3-a2d041ae672f"
      },
      "source": [
        "plot_morris_space(10000, 1)\r\n",
        "plot_morris_space(10000, 10)\r\n",
        "plot_morris_space(10000, 100)\r\n",
        "plot_morris_space(10000, 1000)"
      ],
      "execution_count": null,
      "outputs": [
        {
          "output_type": "display_data",
          "data": {
            "image/png": "[encoded data removed]",
            "text/plain": [
              "<Figure size 432x288 with 1 Axes>"
            ]
          },
          "metadata": {
            "tags": [],
            "needs_background": "light"
          }
        },
        {
          "output_type": "display_data",
          "data": {
            "image/png": "[encoded data removed]",
            "text/plain": [
              "<Figure size 432x288 with 1 Axes>"
            ]
          },
          "metadata": {
            "tags": [],
            "needs_background": "light"
          }
        },
        {
          "output_type": "display_data",
          "data": {
            "image/png": "[encoded data removed]",
            "text/plain": [
              "<Figure size 432x288 with 1 Axes>"
            ]
          },
          "metadata": {
            "tags": [],
            "needs_background": "light"
          }
        },
        {
          "output_type": "display_data",
          "data": {
            "image/png": "[encoded data removed]",
            "text/plain": [
              "<Figure size 432x288 with 1 Axes>"
            ]
          },
          "metadata": {
            "tags": [],
            "needs_background": "light"
          }
        }
      ]
    },
    {
      "cell_type": "markdown",
      "metadata": {
        "id": "G8YVDiFTOsA4"
      },
      "source": [
        "We can see unbiasedness when we subtracting minus 1 in the final result (Morris alpha version)"
      ]
    },
    {
      "cell_type": "markdown",
      "metadata": {
        "id": "3z-cWwk-oMSW"
      },
      "source": [
        "#### Flajolet Martin"
      ]
    },
    {
      "cell_type": "code",
      "metadata": {
        "id": "KC_5TfBToOYJ",
        "colab": {
          "base_uri": "https://localhost:8080/"
        },
        "outputId": "73ebf606-b6a0-49d4-ce38-1fda6c9a801b"
      },
      "source": [
        "import sys\r\n",
        "\r\n",
        "print(sys.getsizeof(0.999999999), \"bytes\")\r\n",
        "print(sys.getsizeof(0.000000001), \"bytes\")"
      ],
      "execution_count": null,
      "outputs": [
        {
          "output_type": "stream",
          "text": [
            "24 bytes\n",
            "24 bytes\n"
          ],
          "name": "stdout"
        }
      ]
    },
    {
      "cell_type": "markdown",
      "metadata": {
        "id": "S2RYxNWl9uLG"
      },
      "source": [
        "We can see that for each value we need only 24 bytes therefore each alpha estimator will require:\r\n",
        "\r\n",
        "**24 bytes**.\r\n",
        "\r\n",
        "beta contains $\\alpha$ alpha estimators so each beta estimator will require:\r\n",
        "\r\n",
        "**$\\alpha \\times$ 24 bytes**\r\n",
        "\r\n",
        "Best for last, each final version contains $\\beta $ beta estimators and each of the beta contains $\\alpha$ alpha estimators.\r\n",
        "\r\n",
        "so in the end our FM final version will require:\r\n",
        "\r\n",
        "**$\\beta\\times\\alpha \\times$ 24 bytes**"
      ]
    }
  ]
}